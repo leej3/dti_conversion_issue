{
 "cells": [
  {
   "cell_type": "code",
   "execution_count": 1,
   "metadata": {},
   "outputs": [
    {
     "name": "stdout",
     "output_type": "stream",
     "text": [
      "/data/troubleshooting_dti_failure\n"
     ]
    }
   ],
   "source": [
    "base_dir = '/data/troubleshooting_dti_failure/'\n",
    "%cd {base_dir}"
   ]
  },
  {
   "cell_type": "markdown",
   "metadata": {},
   "source": [
    "## Dcm2niix"
   ]
  },
  {
   "cell_type": "code",
   "execution_count": 2,
   "metadata": {
    "collapsed": true
   },
   "outputs": [],
   "source": [
    "mkdir dcm2niix_output"
   ]
  },
  {
   "cell_type": "code",
   "execution_count": 3,
   "metadata": {},
   "outputs": [
    {
     "data": {
      "text/plain": [
       "['dti_dicoms/',\n",
       " 'dti_dicoms/mr_0017/',\n",
       " 'dti_dicoms/mr_0017/edti_2mm_cdif99-00073.dcm',\n",
       " 'dti_dicoms/mr_0017/edti_2mm_cdif99-00163.dcm',\n",
       " 'dti_dicoms/mr_0017/edti_2mm_cdif99-00087.dcm']"
      ]
     },
     "execution_count": 3,
     "metadata": {},
     "output_type": "execute_result"
    }
   ],
   "source": [
    "tar_list = !tar xvf dti_test_dicoms_001_001.tar.gz\n",
    "tar_list[:5]"
   ]
  },
  {
   "cell_type": "code",
   "execution_count": 4,
   "metadata": {},
   "outputs": [
    {
     "name": "stdout",
     "output_type": "stream",
     "text": [
      "\u001b[0m\u001b[01;34mdcm2niix_output\u001b[0m/  \u001b[01;34mdti_dicoms\u001b[0m/  \u001b[01;32mdti_test_dicoms_001_001.tar.gz\u001b[0m*\r\n"
     ]
    }
   ],
   "source": [
    "ls"
   ]
  },
  {
   "cell_type": "code",
   "execution_count": 5,
   "metadata": {},
   "outputs": [
    {
     "name": "stdout",
     "output_type": "stream",
     "text": [
      "Compression will be faster with /usr/local/bin/pigz\n",
      "Chris Rorden's dcm2niiX version v1.0.20170314 (64-bit Linux)\n",
      "Found 1680 DICOM image(s)\n",
      "Reorienting edti_2mm_cdif09_G01 : 20 GE DTI vectors: please validate. isCol=1 sliceDir=3 flp=0 0 1\n",
      "Convert 1680 DICOM as /data/troubleshooting_dti_failure/dcm2niix_output/dwi (128x128x84x20)\n",
      "Conversion required 2.709230 seconds.\n"
     ]
    }
   ],
   "source": [
    "!dcm2niix -b y -z i -x n -t n -m n -f dwi -o /data/troubleshooting_dti_failure/dcm2niix_output \\\n",
    "-s n -v n /data/troubleshooting_dti_failure/dti_dicoms/mr_0013/edti_2mm_cdif09_g01-00001.dcm"
   ]
  },
  {
   "cell_type": "code",
   "execution_count": 6,
   "metadata": {},
   "outputs": [
    {
     "name": "stdout",
     "output_type": "stream",
     "text": [
      "dwi.bval  dwi.bvec  dwi.json  dwi.nii.gz\r\n"
     ]
    }
   ],
   "source": [
    "ls dcm2niix_output/"
   ]
  },
  {
   "cell_type": "markdown",
   "metadata": {},
   "source": [
    "## Nipype "
   ]
  },
  {
   "cell_type": "code",
   "execution_count": 7,
   "metadata": {},
   "outputs": [
    {
     "data": {
      "text/plain": [
       "u'0.13.0-dev'"
      ]
     },
     "execution_count": 7,
     "metadata": {},
     "output_type": "execute_result"
    }
   ],
   "source": [
    "from nipype import __version__\n",
    "__version__"
   ]
  },
  {
   "cell_type": "code",
   "execution_count": 8,
   "metadata": {
    "collapsed": true
   },
   "outputs": [],
   "source": [
    "from nipype import Function, Node\n",
    "from nipype.interfaces.base import isdefined\n",
    "from nipype.interfaces.dcm2nii import Dcm2nii, Dcm2niix\n",
    "import os\n"
   ]
  },
  {
   "cell_type": "code",
   "execution_count": 9,
   "metadata": {},
   "outputs": [
    {
     "name": "stdout",
     "output_type": "stream",
     "text": [
      "/data/troubleshooting_dti_failure\n",
      "/data/troubleshooting_dti_failure/nipype_dicoms\n"
     ]
    }
   ],
   "source": [
    "%cd {base_dir}\n",
    "tmpdir = '/data/troubleshooting_dti_failure/nipype_dicoms'\n",
    "%rm -rf {tmpdir}\n",
    "\n",
    "%mkdir {tmpdir}\n",
    "!cp -R dti_dicoms/mr_0013/* {tmpdir}\n",
    "%cd {tmpdir}"
   ]
  },
  {
   "cell_type": "code",
   "execution_count": 10,
   "metadata": {},
   "outputs": [
    {
     "data": {
      "text/plain": [
       "['/data/troubleshooting_dti_failure/nipype_dicoms/edti_2mm_cdif09_g01-01440.dcm',\n",
       " '/data/troubleshooting_dti_failure/nipype_dicoms/edti_2mm_cdif09_g01-00974.dcm',\n",
       " '/data/troubleshooting_dti_failure/nipype_dicoms/edti_2mm_cdif09_g01-00793.dcm',\n",
       " '/data/troubleshooting_dti_failure/nipype_dicoms/edti_2mm_cdif09_g01-01367.dcm',\n",
       " '/data/troubleshooting_dti_failure/nipype_dicoms/edti_2mm_cdif09_g01-00909.dcm']"
      ]
     },
     "execution_count": 10,
     "metadata": {},
     "output_type": "execute_result"
    }
   ],
   "source": [
    "# need to be abspaths!\n",
    "dicoms = list(map(os.path.abspath, os.listdir('.')))\n",
    "dicoms[:5]"
   ]
  },
  {
   "cell_type": "code",
   "execution_count": 11,
   "metadata": {
    "collapsed": true
   },
   "outputs": [],
   "source": [
    "converter = 'dcm2niix'\n",
    "prefix_name = 'dwi'\n",
    "convertnode = Node(Dcm2niix(), name='convert')\n",
    "convertnode.base_dir = os.path.abspath(tmpdir)\n",
    "convertnode.inputs.source_names = dicoms\n",
    "convertnode.inputs.out_filename = 'dwi'\n",
    "convertnode.inputs.terminal_output = 'allatonce'"
   ]
  },
  {
   "cell_type": "code",
   "execution_count": 12,
   "metadata": {},
   "outputs": [
    {
     "name": "stdout",
     "output_type": "stream",
     "text": [
      "170705-20:08:48,121 workflow INFO:\n",
      "\t Executing node convert in dir: /data/troubleshooting_dti_failure/nipype_dicoms/convert\n",
      "170705-20:08:48,853 workflow INFO:\n",
      "\t Running: dcm2niix -b y -z i -x n -t n -m n -f dwi -o /data/troubleshooting_dti_failure/nipype_dicoms/convert -s n -v n /data/troubleshooting_dti_failure/nipype_dicoms/convert/edti_2mm_cdif09_g01-01440.dcm\n"
     ]
    }
   ],
   "source": [
    "res = convertnode.run()"
   ]
  },
  {
   "cell_type": "code",
   "execution_count": 13,
   "metadata": {},
   "outputs": [
    {
     "data": {
      "text/plain": [
       "\n",
       "bids = /data/troubleshooting_dti_failure/nipype_dicoms/convert/dwi.json\n",
       "bvals = <undefined>\n",
       "bvecs = <undefined>\n",
       "converted_files = /data/troubleshooting_dti_failure/nipype_dicoms/convert/dwi.nii.gz"
      ]
     },
     "execution_count": 13,
     "metadata": {},
     "output_type": "execute_result"
    }
   ],
   "source": [
    "res.outputs"
   ]
  },
  {
   "cell_type": "code",
   "execution_count": null,
   "metadata": {
    "collapsed": true
   },
   "outputs": [],
   "source": []
  }
 ],
 "metadata": {
  "kernelspec": {
   "display_name": "Python 2",
   "language": "python",
   "name": "python2"
  },
  "language_info": {
   "codemirror_mode": {
    "name": "ipython",
    "version": 2
   },
   "file_extension": ".py",
   "mimetype": "text/x-python",
   "name": "python",
   "nbconvert_exporter": "python",
   "pygments_lexer": "ipython2",
   "version": "2.7.13"
  }
 },
 "nbformat": 4,
 "nbformat_minor": 2
}
